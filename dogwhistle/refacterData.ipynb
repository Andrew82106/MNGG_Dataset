{
 "cells": [
  {
   "cell_type": "code",
   "execution_count": 46,
   "id": "initial_id",
   "metadata": {
    "collapsed": true,
    "ExecuteTime": {
     "end_time": "2023-11-23T12:40:15.119848Z",
     "start_time": "2023-11-23T12:40:15.094274Z"
    }
   },
   "outputs": [],
   "source": [
    "import pandas as pd\n",
    "import tqdm"
   ]
  },
  {
   "cell_type": "code",
   "execution_count": 47,
   "outputs": [],
   "source": [
    "insiderTestRoute = 'Insider/test.tsv'\n",
    "insiderTrainRoute = 'Insider/train.tsv'\n",
    "insiderDevRoute = 'Insider/dev.tsv'\n",
    "\n",
    "insiderTestDF = pd.read_csv(insiderTestRoute, sep='\\t', index_col=0)\n",
    "insiderTrainDF = pd.read_csv(insiderTrainRoute, sep='\\t', index_col=0)\n",
    "insiderDevDF = pd.read_csv(insiderDevRoute, sep='\\t', index_col=0)"
   ],
   "metadata": {
    "collapsed": false,
    "ExecuteTime": {
     "end_time": "2023-11-23T12:40:15.432529Z",
     "start_time": "2023-11-23T12:40:15.109564Z"
    }
   },
   "id": "3d42c7974822daec"
  },
  {
   "cell_type": "code",
   "execution_count": 48,
   "outputs": [
    {
     "data": {
      "text/plain": "(28776, 230220, 28779)"
     },
     "execution_count": 48,
     "metadata": {},
     "output_type": "execute_result"
    }
   ],
   "source": [
    "insiderLst = [insiderTestDF, insiderTrainDF, insiderDevDF]\n",
    "len(insiderTestDF), len(insiderTrainDF), len(insiderDevDF)"
   ],
   "metadata": {
    "collapsed": false,
    "ExecuteTime": {
     "end_time": "2023-11-23T12:40:15.441297Z",
     "start_time": "2023-11-23T12:40:15.433256Z"
    }
   },
   "id": "2874ae3d867161a9"
  },
  {
   "cell_type": "code",
   "execution_count": 49,
   "outputs": [
    {
     "data": {
      "text/plain": "              HiddenWords  CantContext CantToDecode  code\nWordIndices                                              \n0              熊,北极,地铁,射线     二期,医院,玩偶           二期     2\n1              熊,北极,地铁,射线     二期,医院,玩偶           医院     3\n2              熊,北极,地铁,射线     二期,医院,玩偶           玩偶     0\n0            世界,高跟鞋,火山,红色     沙盒,贵重,对联           沙盒     0\n1            世界,高跟鞋,火山,红色     沙盒,贵重,对联           贵重     1\n...                   ...          ...          ...   ...\n1            疾驰,烹饪,胡萝卜,臭虫  轮胎,神行太保戴宗,啪       神行太保戴宗     0\n2            疾驰,烹饪,胡萝卜,臭虫  轮胎,神行太保戴宗,啪            啪     3\n0             合肥,电视,印度,冬天     羽绒,购物,灰a           羽绒     3\n1             合肥,电视,印度,冬天     羽绒,购物,灰a           购物     1\n2             合肥,电视,印度,冬天     羽绒,购物,灰a           灰a     0\n\n[28779 rows x 4 columns]",
      "text/html": "<div>\n<style scoped>\n    .dataframe tbody tr th:only-of-type {\n        vertical-align: middle;\n    }\n\n    .dataframe tbody tr th {\n        vertical-align: top;\n    }\n\n    .dataframe thead th {\n        text-align: right;\n    }\n</style>\n<table border=\"1\" class=\"dataframe\">\n  <thead>\n    <tr style=\"text-align: right;\">\n      <th></th>\n      <th>HiddenWords</th>\n      <th>CantContext</th>\n      <th>CantToDecode</th>\n      <th>code</th>\n    </tr>\n    <tr>\n      <th>WordIndices</th>\n      <th></th>\n      <th></th>\n      <th></th>\n      <th></th>\n    </tr>\n  </thead>\n  <tbody>\n    <tr>\n      <th>0</th>\n      <td>熊,北极,地铁,射线</td>\n      <td>二期,医院,玩偶</td>\n      <td>二期</td>\n      <td>2</td>\n    </tr>\n    <tr>\n      <th>1</th>\n      <td>熊,北极,地铁,射线</td>\n      <td>二期,医院,玩偶</td>\n      <td>医院</td>\n      <td>3</td>\n    </tr>\n    <tr>\n      <th>2</th>\n      <td>熊,北极,地铁,射线</td>\n      <td>二期,医院,玩偶</td>\n      <td>玩偶</td>\n      <td>0</td>\n    </tr>\n    <tr>\n      <th>0</th>\n      <td>世界,高跟鞋,火山,红色</td>\n      <td>沙盒,贵重,对联</td>\n      <td>沙盒</td>\n      <td>0</td>\n    </tr>\n    <tr>\n      <th>1</th>\n      <td>世界,高跟鞋,火山,红色</td>\n      <td>沙盒,贵重,对联</td>\n      <td>贵重</td>\n      <td>1</td>\n    </tr>\n    <tr>\n      <th>...</th>\n      <td>...</td>\n      <td>...</td>\n      <td>...</td>\n      <td>...</td>\n    </tr>\n    <tr>\n      <th>1</th>\n      <td>疾驰,烹饪,胡萝卜,臭虫</td>\n      <td>轮胎,神行太保戴宗,啪</td>\n      <td>神行太保戴宗</td>\n      <td>0</td>\n    </tr>\n    <tr>\n      <th>2</th>\n      <td>疾驰,烹饪,胡萝卜,臭虫</td>\n      <td>轮胎,神行太保戴宗,啪</td>\n      <td>啪</td>\n      <td>3</td>\n    </tr>\n    <tr>\n      <th>0</th>\n      <td>合肥,电视,印度,冬天</td>\n      <td>羽绒,购物,灰a</td>\n      <td>羽绒</td>\n      <td>3</td>\n    </tr>\n    <tr>\n      <th>1</th>\n      <td>合肥,电视,印度,冬天</td>\n      <td>羽绒,购物,灰a</td>\n      <td>购物</td>\n      <td>1</td>\n    </tr>\n    <tr>\n      <th>2</th>\n      <td>合肥,电视,印度,冬天</td>\n      <td>羽绒,购物,灰a</td>\n      <td>灰a</td>\n      <td>0</td>\n    </tr>\n  </tbody>\n</table>\n<p>28779 rows × 4 columns</p>\n</div>"
     },
     "execution_count": 49,
     "metadata": {},
     "output_type": "execute_result"
    }
   ],
   "source": [
    "insiderDevDF"
   ],
   "metadata": {
    "collapsed": false,
    "ExecuteTime": {
     "end_time": "2023-11-23T12:40:15.451100Z",
     "start_time": "2023-11-23T12:40:15.445217Z"
    }
   },
   "id": "492f60b72560b630"
  },
  {
   "cell_type": "code",
   "execution_count": 49,
   "outputs": [],
   "source": [],
   "metadata": {
    "collapsed": false,
    "ExecuteTime": {
     "end_time": "2023-11-23T12:40:15.472087Z",
     "start_time": "2023-11-23T12:40:15.452184Z"
    }
   },
   "id": "84e3f4677ac3287d"
  },
  {
   "cell_type": "code",
   "execution_count": 50,
   "outputs": [],
   "source": [
    "outsiderTestRoute = 'Outsider/test.tsv'\n",
    "outsiderTrainRoute = 'Outsider/train.tsv'\n",
    "outsiderDevRoute = 'Outsider/dev.tsv'\n",
    "\n",
    "outsiderTestDF = pd.read_csv(outsiderTestRoute, sep='\\t', index_col=0)\n",
    "outsiderTrainDF = pd.read_csv(outsiderTrainRoute, sep='\\t', index_col=0)\n",
    "outsiderDevDF = pd.read_csv(outsiderDevRoute, sep='\\t', index_col=0)"
   ],
   "metadata": {
    "collapsed": false,
    "ExecuteTime": {
     "end_time": "2023-11-23T12:40:15.983535Z",
     "start_time": "2023-11-23T12:40:15.455117Z"
    }
   },
   "id": "5a0239d75c4253ba"
  },
  {
   "cell_type": "code",
   "execution_count": 51,
   "outputs": [
    {
     "data": {
      "text/plain": "(22014, 172068, 21987)"
     },
     "execution_count": 51,
     "metadata": {},
     "output_type": "execute_result"
    }
   ],
   "source": [
    "outsiderLst = [outsiderTestDF, outsiderTrainDF, outsiderDevDF]\n",
    "len(outsiderTestDF), len(outsiderTrainDF), len(outsiderDevDF)"
   ],
   "metadata": {
    "collapsed": false,
    "ExecuteTime": {
     "end_time": "2023-11-23T12:40:15.989762Z",
     "start_time": "2023-11-23T12:40:15.984503Z"
    }
   },
   "id": "1e04f2792a076819"
  },
  {
   "cell_type": "code",
   "execution_count": 52,
   "outputs": [
    {
     "data": {
      "text/plain": "                                                   HiddenWords  CantContext  \\\nWordIndices                                                                   \n0                                            玩偶 沙盒,贵重,二期 对联,医院   饼干,毛衣,共享汽车   \n1                                            玩偶 沙盒,贵重,二期 对联,医院   饼干,毛衣,共享汽车   \n2                                            玩偶 沙盒,贵重,二期 对联,医院   饼干,毛衣,共享汽车   \n0                                 玩偶 沙盒 饼干,贵重 毛衣,二期 对联 共享汽车,医院     日本,中国,人妖   \n1                                 玩偶 沙盒 饼干,贵重 毛衣,二期 对联 共享汽车,医院     日本,中国,人妖   \n...                                                        ...          ...   \n1            要有能力 要有能力 女孩子擅长 要有能力,身体 下雨 高原 朵朵朵 脑袋,小时候 脑袋 泡泡...  漂,music,刘玉玲   \n2            要有能力 要有能力 女孩子擅长 要有能力,身体 下雨 高原 朵朵朵 脑袋,小时候 脑袋 泡泡...  漂,music,刘玉玲   \n0                                           分瘦 神行太保戴宗,演 轮胎,三,啪     羽绒,购物,灰a   \n1                                           分瘦 神行太保戴宗,演 轮胎,三,啪     羽绒,购物,灰a   \n2                                           分瘦 神行太保戴宗,演 轮胎,三,啪     羽绒,购物,灰a   \n\n            CantToDecode  code  \nWordIndices                     \n0                     饼干     0  \n1                     毛衣     1  \n2                   共享汽车     2  \n0                     日本     2  \n1                     中国     3  \n...                  ...   ...  \n1                  music     3  \n2                    刘玉玲     0  \n0                     羽绒     3  \n1                     购物     1  \n2                     灰a     0  \n\n[21987 rows x 4 columns]",
      "text/html": "<div>\n<style scoped>\n    .dataframe tbody tr th:only-of-type {\n        vertical-align: middle;\n    }\n\n    .dataframe tbody tr th {\n        vertical-align: top;\n    }\n\n    .dataframe thead th {\n        text-align: right;\n    }\n</style>\n<table border=\"1\" class=\"dataframe\">\n  <thead>\n    <tr style=\"text-align: right;\">\n      <th></th>\n      <th>HiddenWords</th>\n      <th>CantContext</th>\n      <th>CantToDecode</th>\n      <th>code</th>\n    </tr>\n    <tr>\n      <th>WordIndices</th>\n      <th></th>\n      <th></th>\n      <th></th>\n      <th></th>\n    </tr>\n  </thead>\n  <tbody>\n    <tr>\n      <th>0</th>\n      <td>玩偶 沙盒,贵重,二期 对联,医院</td>\n      <td>饼干,毛衣,共享汽车</td>\n      <td>饼干</td>\n      <td>0</td>\n    </tr>\n    <tr>\n      <th>1</th>\n      <td>玩偶 沙盒,贵重,二期 对联,医院</td>\n      <td>饼干,毛衣,共享汽车</td>\n      <td>毛衣</td>\n      <td>1</td>\n    </tr>\n    <tr>\n      <th>2</th>\n      <td>玩偶 沙盒,贵重,二期 对联,医院</td>\n      <td>饼干,毛衣,共享汽车</td>\n      <td>共享汽车</td>\n      <td>2</td>\n    </tr>\n    <tr>\n      <th>0</th>\n      <td>玩偶 沙盒 饼干,贵重 毛衣,二期 对联 共享汽车,医院</td>\n      <td>日本,中国,人妖</td>\n      <td>日本</td>\n      <td>2</td>\n    </tr>\n    <tr>\n      <th>1</th>\n      <td>玩偶 沙盒 饼干,贵重 毛衣,二期 对联 共享汽车,医院</td>\n      <td>日本,中国,人妖</td>\n      <td>中国</td>\n      <td>3</td>\n    </tr>\n    <tr>\n      <th>...</th>\n      <td>...</td>\n      <td>...</td>\n      <td>...</td>\n      <td>...</td>\n    </tr>\n    <tr>\n      <th>1</th>\n      <td>要有能力 要有能力 女孩子擅长 要有能力,身体 下雨 高原 朵朵朵 脑袋,小时候 脑袋 泡泡...</td>\n      <td>漂,music,刘玉玲</td>\n      <td>music</td>\n      <td>3</td>\n    </tr>\n    <tr>\n      <th>2</th>\n      <td>要有能力 要有能力 女孩子擅长 要有能力,身体 下雨 高原 朵朵朵 脑袋,小时候 脑袋 泡泡...</td>\n      <td>漂,music,刘玉玲</td>\n      <td>刘玉玲</td>\n      <td>0</td>\n    </tr>\n    <tr>\n      <th>0</th>\n      <td>分瘦 神行太保戴宗,演 轮胎,三,啪</td>\n      <td>羽绒,购物,灰a</td>\n      <td>羽绒</td>\n      <td>3</td>\n    </tr>\n    <tr>\n      <th>1</th>\n      <td>分瘦 神行太保戴宗,演 轮胎,三,啪</td>\n      <td>羽绒,购物,灰a</td>\n      <td>购物</td>\n      <td>1</td>\n    </tr>\n    <tr>\n      <th>2</th>\n      <td>分瘦 神行太保戴宗,演 轮胎,三,啪</td>\n      <td>羽绒,购物,灰a</td>\n      <td>灰a</td>\n      <td>0</td>\n    </tr>\n  </tbody>\n</table>\n<p>21987 rows × 4 columns</p>\n</div>"
     },
     "execution_count": 52,
     "metadata": {},
     "output_type": "execute_result"
    }
   ],
   "source": [
    "outsiderDevDF"
   ],
   "metadata": {
    "collapsed": false,
    "ExecuteTime": {
     "end_time": "2023-11-23T12:40:15.997599Z",
     "start_time": "2023-11-23T12:40:15.993580Z"
    }
   },
   "id": "4f3902681634cb86"
  },
  {
   "cell_type": "code",
   "execution_count": 53,
   "outputs": [
    {
     "data": {
      "text/plain": "              HiddenWords  CantContext CantToDecode  code\nWordIndices                                              \n0              熊,北极,地铁,射线     二期,医院,玩偶           二期     2\n1              熊,北极,地铁,射线     二期,医院,玩偶           医院     3\n2              熊,北极,地铁,射线     二期,医院,玩偶           玩偶     0\n0            世界,高跟鞋,火山,红色     沙盒,贵重,对联           沙盒     0\n1            世界,高跟鞋,火山,红色     沙盒,贵重,对联           贵重     1\n...                   ...          ...          ...   ...\n1            疾驰,烹饪,胡萝卜,臭虫  轮胎,神行太保戴宗,啪       神行太保戴宗     0\n2            疾驰,烹饪,胡萝卜,臭虫  轮胎,神行太保戴宗,啪            啪     3\n0             合肥,电视,印度,冬天     羽绒,购物,灰a           羽绒     3\n1             合肥,电视,印度,冬天     羽绒,购物,灰a           购物     1\n2             合肥,电视,印度,冬天     羽绒,购物,灰a           灰a     0\n\n[28779 rows x 4 columns]",
      "text/html": "<div>\n<style scoped>\n    .dataframe tbody tr th:only-of-type {\n        vertical-align: middle;\n    }\n\n    .dataframe tbody tr th {\n        vertical-align: top;\n    }\n\n    .dataframe thead th {\n        text-align: right;\n    }\n</style>\n<table border=\"1\" class=\"dataframe\">\n  <thead>\n    <tr style=\"text-align: right;\">\n      <th></th>\n      <th>HiddenWords</th>\n      <th>CantContext</th>\n      <th>CantToDecode</th>\n      <th>code</th>\n    </tr>\n    <tr>\n      <th>WordIndices</th>\n      <th></th>\n      <th></th>\n      <th></th>\n      <th></th>\n    </tr>\n  </thead>\n  <tbody>\n    <tr>\n      <th>0</th>\n      <td>熊,北极,地铁,射线</td>\n      <td>二期,医院,玩偶</td>\n      <td>二期</td>\n      <td>2</td>\n    </tr>\n    <tr>\n      <th>1</th>\n      <td>熊,北极,地铁,射线</td>\n      <td>二期,医院,玩偶</td>\n      <td>医院</td>\n      <td>3</td>\n    </tr>\n    <tr>\n      <th>2</th>\n      <td>熊,北极,地铁,射线</td>\n      <td>二期,医院,玩偶</td>\n      <td>玩偶</td>\n      <td>0</td>\n    </tr>\n    <tr>\n      <th>0</th>\n      <td>世界,高跟鞋,火山,红色</td>\n      <td>沙盒,贵重,对联</td>\n      <td>沙盒</td>\n      <td>0</td>\n    </tr>\n    <tr>\n      <th>1</th>\n      <td>世界,高跟鞋,火山,红色</td>\n      <td>沙盒,贵重,对联</td>\n      <td>贵重</td>\n      <td>1</td>\n    </tr>\n    <tr>\n      <th>...</th>\n      <td>...</td>\n      <td>...</td>\n      <td>...</td>\n      <td>...</td>\n    </tr>\n    <tr>\n      <th>1</th>\n      <td>疾驰,烹饪,胡萝卜,臭虫</td>\n      <td>轮胎,神行太保戴宗,啪</td>\n      <td>神行太保戴宗</td>\n      <td>0</td>\n    </tr>\n    <tr>\n      <th>2</th>\n      <td>疾驰,烹饪,胡萝卜,臭虫</td>\n      <td>轮胎,神行太保戴宗,啪</td>\n      <td>啪</td>\n      <td>3</td>\n    </tr>\n    <tr>\n      <th>0</th>\n      <td>合肥,电视,印度,冬天</td>\n      <td>羽绒,购物,灰a</td>\n      <td>羽绒</td>\n      <td>3</td>\n    </tr>\n    <tr>\n      <th>1</th>\n      <td>合肥,电视,印度,冬天</td>\n      <td>羽绒,购物,灰a</td>\n      <td>购物</td>\n      <td>1</td>\n    </tr>\n    <tr>\n      <th>2</th>\n      <td>合肥,电视,印度,冬天</td>\n      <td>羽绒,购物,灰a</td>\n      <td>灰a</td>\n      <td>0</td>\n    </tr>\n  </tbody>\n</table>\n<p>28779 rows × 4 columns</p>\n</div>"
     },
     "execution_count": 53,
     "metadata": {},
     "output_type": "execute_result"
    }
   ],
   "source": [
    "insiderDevDF"
   ],
   "metadata": {
    "collapsed": false,
    "ExecuteTime": {
     "end_time": "2023-11-23T12:40:16.005411Z",
     "start_time": "2023-11-23T12:40:15.996341Z"
    }
   },
   "id": "b45c6246f81c2a5c"
  },
  {
   "cell_type": "code",
   "execution_count": 61,
   "outputs": [
    {
     "name": "stderr",
     "output_type": "stream",
     "text": [
      "100%|██████████| 28776/28776 [00:07<00:00, 3737.58it/s]\n",
      "100%|██████████| 230220/230220 [02:11<00:00, 1753.51it/s]\n",
      "100%|██████████| 28779/28779 [00:22<00:00, 1302.61it/s]\n",
      "100%|██████████| 22014/22014 [02:12<00:00, 165.57it/s]\n",
      "100%|██████████| 172068/172068 [36:54<00:00, 77.69it/s]  \n",
      "100%|██████████| 21987/21987 [07:07<00:00, 51.46it/s]\n"
     ]
    }
   ],
   "source": [
    "Lst = insiderLst + outsiderLst\n",
    "cant_dict = {\"cant\": [], \"refer\": []}\n",
    "for df in Lst:\n",
    "    for i in tqdm.tqdm(range(len(df))):\n",
    "        code = int(df.iloc[i]['code'])\n",
    "        cant = df.iloc[i]['CantToDecode']\n",
    "        AimCant = df.iloc[i]['HiddenWords'].split(',')[code]\n",
    "        for j in AimCant.split(\" \"):\n",
    "            if cant in cant_dict['cant'] and AimCant in cant_dict['refer']:\n",
    "                continue\n",
    "            cant_dict['cant'].append(cant)\n",
    "            cant_dict['refer'].append(AimCant)"
   ],
   "metadata": {
    "collapsed": false,
    "ExecuteTime": {
     "end_time": "2023-11-23T13:37:43.170237Z",
     "start_time": "2023-11-23T12:48:46.893085Z"
    }
   },
   "id": "f5e716c5185ccd4f"
  },
  {
   "cell_type": "code",
   "execution_count": 62,
   "outputs": [
    {
     "data": {
      "text/plain": "309312"
     },
     "execution_count": 62,
     "metadata": {},
     "output_type": "execute_result"
    }
   ],
   "source": [
    "len(cant_dict['cant'])"
   ],
   "metadata": {
    "collapsed": false,
    "ExecuteTime": {
     "end_time": "2023-11-23T14:33:04.853231Z",
     "start_time": "2023-11-23T14:33:04.836543Z"
    }
   },
   "id": "d65efbe267b1009e"
  },
  {
   "cell_type": "code",
   "execution_count": 63,
   "outputs": [
    {
     "data": {
      "text/plain": "(['流', '夫妻', '红', '黄', '绿', '红', '飞流直下', '薯条', 'no baby', '老虎'],\n ['瀑布', '避孕套', '番茄酱', '鸡蛋', '森林', '火星', '瀑布', '番茄酱', '避孕套', '森林'])"
     },
     "execution_count": 63,
     "metadata": {},
     "output_type": "execute_result"
    }
   ],
   "source": [
    "cant_dict['cant'][:10], cant_dict['refer'][:10]"
   ],
   "metadata": {
    "collapsed": false,
    "ExecuteTime": {
     "end_time": "2023-11-23T14:33:12.214360Z",
     "start_time": "2023-11-23T14:33:12.202489Z"
    }
   },
   "id": "d39209b10953d3f9"
  },
  {
   "cell_type": "code",
   "execution_count": 64,
   "outputs": [],
   "source": [
    "pd.DataFrame(cant_dict).to_excel(\"../CantPair.xlsx\")"
   ],
   "metadata": {
    "collapsed": false,
    "ExecuteTime": {
     "end_time": "2023-11-23T14:33:29.657754Z",
     "start_time": "2023-11-23T14:33:15.921681Z"
    }
   },
   "id": "51321477e00ac4e7"
  },
  {
   "cell_type": "code",
   "execution_count": null,
   "outputs": [],
   "source": [],
   "metadata": {
    "collapsed": false
   },
   "id": "8c4b7040be1be280"
  }
 ],
 "metadata": {
  "kernelspec": {
   "display_name": "Python 3",
   "language": "python",
   "name": "python3"
  },
  "language_info": {
   "codemirror_mode": {
    "name": "ipython",
    "version": 2
   },
   "file_extension": ".py",
   "mimetype": "text/x-python",
   "name": "python",
   "nbconvert_exporter": "python",
   "pygments_lexer": "ipython2",
   "version": "2.7.6"
  }
 },
 "nbformat": 4,
 "nbformat_minor": 5
}
